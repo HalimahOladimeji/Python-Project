{
 "cells": [
  {
   "cell_type": "markdown",
   "metadata": {},
   "source": [
    "Build a regression model."
   ]
  },
  {
   "cell_type": "code",
   "execution_count": 5,
   "metadata": {
    "tags": []
   },
   "outputs": [
    {
     "name": "stdout",
     "output_type": "stream",
     "text": [
      "                            OLS Regression Results                            \n",
      "==============================================================================\n",
      "Dep. Variable:                  Bikes   R-squared:                       0.262\n",
      "Model:                            OLS   Adj. R-squared:                  0.261\n",
      "Method:                 Least Squares   F-statistic:                     282.6\n",
      "Date:                Mon, 11 Sep 2023   Prob (F-statistic):           1.72e-54\n",
      "Time:                        03:58:04   Log-Likelihood:                -2716.9\n",
      "No. Observations:                 797   AIC:                             5438.\n",
      "Df Residuals:                     795   BIC:                             5447.\n",
      "Df Model:                           1                                         \n",
      "Covariance Type:            nonrobust                                         \n",
      "====================================================================================\n",
      "                       coef    std err          t      P>|t|      [0.025      0.975]\n",
      "------------------------------------------------------------------------------------\n",
      "const               18.4955      0.485     38.121      0.000      17.543      19.448\n",
      "Total bike slots    -0.4880      0.029    -16.811      0.000      -0.545      -0.431\n",
      "==============================================================================\n",
      "Omnibus:                       94.717   Durbin-Watson:                   1.756\n",
      "Prob(Omnibus):                  0.000   Jarque-Bera (JB):              129.784\n",
      "Skew:                           0.891   Prob(JB):                     6.57e-29\n",
      "Kurtosis:                       3.857   Cond. No.                         31.3\n",
      "==============================================================================\n",
      "\n",
      "Notes:\n",
      "[1] Standard Errors assume that the covariance matrix of the errors is correctly specified.\n"
     ]
    }
   ],
   "source": [
    "import pandas as pd\n",
    "import statsmodels.api as sm\n",
    "\n",
    "# Load dataset into a Pandas DataFrame\n",
    "df = pd.read_csv('citybikes.csv')\n",
    "\n",
    "# independent and dependent variable\n",
    "X = df[['Total bike slots']] \n",
    "y = df['Bikes']\n",
    "\n",
    "# Add a constant (intercept) to the independent variables\n",
    "X = sm.add_constant(X)\n",
    "\n",
    "# Fit the regression model\n",
    "model = sm.OLS(y, X).fit()\n",
    "\n",
    "# Print the model summary\n",
    "print(model.summary())\n"
   ]
  },
  {
   "cell_type": "markdown",
   "metadata": {},
   "source": [
    "Provide model output and an interpretation of the results. "
   ]
  },
  {
   "cell_type": "code",
   "execution_count": null,
   "metadata": {},
   "outputs": [],
   "source": [
    "OLS Regression Results                            \n",
    "==============================================================================\n",
    "Dep. Variable:                  Bikes   R-squared:                       0.262\n",
    "Model:                            OLS   Adj. R-squared:                  0.261\n",
    "Method:                 Least Squares   F-statistic:                     282.6\n",
    "Date:                Mon, 11 Sep 2023   Prob (F-statistic):           1.72e-54\n",
    "Time:                        03:58:04   Log-Likelihood:                -2716.9\n",
    "No. Observations:                 797   AIC:                             5438.\n",
    "Df Residuals:                     795   BIC:                             5447.\n",
    "Df Model:                           1                                         \n",
    "Covariance Type:            nonrobust                                         \n",
    "====================================================================================\n",
    "                       coef    std err          t      P>|t|      [0.025      0.975]\n",
    "------------------------------------------------------------------------------------\n",
    "const               18.4955      0.485     38.121      0.000      17.543      19.448\n",
    "Total bike slots    -0.4880      0.029    -16.811      0.000      -0.545      -0.431\n",
    "==============================================================================\n",
    "Omnibus:                       94.717   Durbin-Watson:                   1.756\n",
    "Prob(Omnibus):                  0.000   Jarque-Bera (JB):              129.784\n",
    "Skew:                           0.891   Prob(JB):                     6.57e-29\n",
    "Kurtosis:                       3.857   Cond. No.                         31.3\n",
    "==============================================================================\n",
    "\n",
    "The coefficient for the Total bike slots variable is -0.4880. \n",
    "This suggests that, on average, for each additional bike slot available, the number of bikes decreases by 0.4880. \n",
    "The negative coefficient suggests an inverse relationship between the number of bikes and the available bike slots.\n",
    "The F-statistic tests whether at least one of the independent variables is statistically significant in predicting the dependent variable.  \n",
    "In this caseThe p-values associated with the coefficients give insight into the statistical significance of the predictors. Based on the provided results, both the constant term (const) and the Total bike slots variable have p-values of 0.000, indicating statistical significance., the F-statistic is 282.6, and the p-value is very close to zero (1.72e-54), suggesting that the model is statistically significant.\n",
    "The p-values associated with the coefficients give insight into the statistical significance of the predictors. \n",
    "Based on the provided results, both the constant term and the Total bike slots variable have p-values of 0.000, indicating statistical significance.\n"
   ]
  }
 ],
 "metadata": {
  "kernelspec": {
   "display_name": "project",
   "language": "python",
   "name": "project"
  },
  "language_info": {
   "codemirror_mode": {
    "name": "ipython",
    "version": 3
   },
   "file_extension": ".py",
   "mimetype": "text/x-python",
   "name": "python",
   "nbconvert_exporter": "python",
   "pygments_lexer": "ipython3",
   "version": "3.9.17"
  }
 },
 "nbformat": 4,
 "nbformat_minor": 4
}
