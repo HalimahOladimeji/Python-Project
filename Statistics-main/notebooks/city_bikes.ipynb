{
 "cells": [
  {
   "cell_type": "markdown",
   "metadata": {},
   "source": [
    "# CityBikes"
   ]
  },
  {
   "cell_type": "markdown",
   "metadata": {},
   "source": [
    "Send a request to CityBikes for the city of your choice. "
   ]
  },
  {
   "cell_type": "code",
   "execution_count": null,
   "metadata": {
    "tags": []
   },
   "outputs": [],
   "source": [
    "import requests\n",
    "import pandas as pd\n",
    "\n",
    "# Define the Citybikes API endpoint for the SOBI Hamilton network\n",
    "api_endpoint = 'https://api.citybik.es/v2/networks/sobi-hamilton'\n",
    "\n",
    "# Make a GET request to the API endpoint\n",
    "response = requests.get(api_endpoint)\n",
    "\n",
    "# Check the HTTP status code of the response\n",
    "status_code = response.status_code\n",
    "\n",
    "# Print the status code\n",
    "print(f\"HTTP Status Code: {status_code}\")\n",
    "\n",
    "# Parse the response data as JSON\n",
    "data = response.json()\n",
    "\n",
    "# Display the retrieved data\n",
    "print(data)\n"
   ]
  },
  {
   "cell_type": "markdown",
   "metadata": {},
   "source": [
    "Parse through the response to get the details you want for the bike stations in that city (latitude, longitude, number of bikes). "
   ]
  },
  {
   "cell_type": "markdown",
   "metadata": {},
   "source": [
    "Using a for loop to append ....."
   ]
  },
  {
   "cell_type": "code",
   "execution_count": null,
   "metadata": {},
   "outputs": [],
   "source": [
    "# Extract the list of stations from the response data\n",
    "stations = response.json()['network']['stations']\n",
    "\n",
    "# Initialize an empty list to store station data\n",
    "station_data = []\n",
    "\n",
    "# Loop through each bike station\n",
    "for station in stations:\n",
    "    # Extract relevant information for each station\n",
    "    name = station['name']\n",
    "    latitude = station['latitude']\n",
    "    longitude = station['longitude']\n",
    "    bikes = station['free_bikes']\n",
    "    total_bike_slots = station['empty_slots']\n",
    "    \n",
    "    # Append station information to the list\n",
    "    station_data.append({\"Station Name\": name, \"Latitude\": latitude, \n",
    "                         \"Longitude\": longitude, \"Free Bikes\": bikes, \"Empty slots\": total_bike_slots})\n",
    "\n",
    "# Display the extracted station data\n",
    "station_data\n"
   ]
  },
  {
   "cell_type": "markdown",
   "metadata": {},
   "source": [
    "Put your parsed results into a DataFrame."
   ]
  },
  {
   "cell_type": "code",
   "execution_count": 42,
   "metadata": {},
   "outputs": [],
   "source": [
    "import pandas as pd\n",
    "\n",
    "# Create a DataFrame using the extracted station data\n",
    "citybikes_df = pd.DataFrame(station_data)\n",
    "\n",
    "# Save the DataFrame to a CSV file without index column\n",
    "citybikes_df.to_csv('citybikes_data.csv', index=False)"
   ]
  },
  {
   "cell_type": "markdown",
   "metadata": {},
   "source": [
    "I was thought json normalize by a mentor (Brian) and i decided to add it to my code as seen below"
   ]
  },
  {
   "cell_type": "code",
   "execution_count": 48,
   "metadata": {
    "tags": []
   },
   "outputs": [
    {
     "data": {
      "text/html": [
       "<div>\n",
       "<style scoped>\n",
       "    .dataframe tbody tr th:only-of-type {\n",
       "        vertical-align: middle;\n",
       "    }\n",
       "\n",
       "    .dataframe tbody tr th {\n",
       "        vertical-align: top;\n",
       "    }\n",
       "\n",
       "    .dataframe thead th {\n",
       "        text-align: right;\n",
       "    }\n",
       "</style>\n",
       "<table border=\"1\" class=\"dataframe\">\n",
       "  <thead>\n",
       "    <tr style=\"text-align: right;\">\n",
       "      <th></th>\n",
       "      <th>Station Name</th>\n",
       "      <th>Latitude</th>\n",
       "      <th>Longitude</th>\n",
       "      <th>Free Bikes</th>\n",
       "      <th>Empty slots</th>\n",
       "    </tr>\n",
       "  </thead>\n",
       "  <tbody>\n",
       "    <tr>\n",
       "      <th>0</th>\n",
       "      <td>Hess at king</td>\n",
       "      <td>43.259126</td>\n",
       "      <td>-79.877212</td>\n",
       "      <td>3</td>\n",
       "      <td>9</td>\n",
       "    </tr>\n",
       "    <tr>\n",
       "      <th>1</th>\n",
       "      <td>Bayfront Park</td>\n",
       "      <td>43.269288</td>\n",
       "      <td>-79.871327</td>\n",
       "      <td>10</td>\n",
       "      <td>25</td>\n",
       "    </tr>\n",
       "    <tr>\n",
       "      <th>2</th>\n",
       "      <td>Bay at Strachan</td>\n",
       "      <td>43.267859</td>\n",
       "      <td>-79.867923</td>\n",
       "      <td>4</td>\n",
       "      <td>18</td>\n",
       "    </tr>\n",
       "    <tr>\n",
       "      <th>3</th>\n",
       "      <td>Bay at Mulberry</td>\n",
       "      <td>43.263198</td>\n",
       "      <td>-79.871803</td>\n",
       "      <td>4</td>\n",
       "      <td>10</td>\n",
       "    </tr>\n",
       "    <tr>\n",
       "      <th>4</th>\n",
       "      <td>City Hall</td>\n",
       "      <td>43.256132</td>\n",
       "      <td>-79.874499</td>\n",
       "      <td>2</td>\n",
       "      <td>15</td>\n",
       "    </tr>\n",
       "    <tr>\n",
       "      <th>...</th>\n",
       "      <td>...</td>\n",
       "      <td>...</td>\n",
       "      <td>...</td>\n",
       "      <td>...</td>\n",
       "      <td>...</td>\n",
       "    </tr>\n",
       "    <tr>\n",
       "      <th>140</th>\n",
       "      <td>King William at James</td>\n",
       "      <td>43.257635</td>\n",
       "      <td>-79.868487</td>\n",
       "      <td>4</td>\n",
       "      <td>2</td>\n",
       "    </tr>\n",
       "    <tr>\n",
       "      <th>141</th>\n",
       "      <td>Westdale Aviary</td>\n",
       "      <td>43.264869</td>\n",
       "      <td>-79.907480</td>\n",
       "      <td>9</td>\n",
       "      <td>0</td>\n",
       "    </tr>\n",
       "    <tr>\n",
       "      <th>142</th>\n",
       "      <td>Hunter GO Centre</td>\n",
       "      <td>43.253330</td>\n",
       "      <td>-79.869533</td>\n",
       "      <td>4</td>\n",
       "      <td>11</td>\n",
       "    </tr>\n",
       "    <tr>\n",
       "      <th>143</th>\n",
       "      <td>Westdale Village</td>\n",
       "      <td>43.262015</td>\n",
       "      <td>-79.905088</td>\n",
       "      <td>12</td>\n",
       "      <td>6</td>\n",
       "    </tr>\n",
       "    <tr>\n",
       "      <th>144</th>\n",
       "      <td>Cannon at Ottawa</td>\n",
       "      <td>43.247565</td>\n",
       "      <td>-79.818050</td>\n",
       "      <td>5</td>\n",
       "      <td>6</td>\n",
       "    </tr>\n",
       "  </tbody>\n",
       "</table>\n",
       "<p>145 rows × 5 columns</p>\n",
       "</div>"
      ],
      "text/plain": [
       "              Station Name   Latitude  Longitude  Free Bikes  Empty slots\n",
       "0             Hess at king  43.259126 -79.877212           3            9\n",
       "1            Bayfront Park  43.269288 -79.871327          10           25\n",
       "2          Bay at Strachan  43.267859 -79.867923           4           18\n",
       "3          Bay at Mulberry  43.263198 -79.871803           4           10\n",
       "4                City Hall  43.256132 -79.874499           2           15\n",
       "..                     ...        ...        ...         ...          ...\n",
       "140  King William at James  43.257635 -79.868487           4            2\n",
       "141        Westdale Aviary  43.264869 -79.907480           9            0\n",
       "142       Hunter GO Centre  43.253330 -79.869533           4           11\n",
       "143       Westdale Village  43.262015 -79.905088          12            6\n",
       "144       Cannon at Ottawa  43.247565 -79.818050           5            6\n",
       "\n",
       "[145 rows x 5 columns]"
      ]
     },
     "execution_count": 48,
     "metadata": {},
     "output_type": "execute_result"
    }
   ],
   "source": [
    "df_new = pd.json_normalize(station_data)\n",
    "df_new"
   ]
  },
  {
   "cell_type": "code",
   "execution_count": 50,
   "metadata": {},
   "outputs": [],
   "source": [
    "# new column merging latitude and longitude into a string\n",
    "df_new['ll'] = df_new['Latitude'].astype(str) + ',' + df_new['Longitude'].astype(str)\n",
    "df_new.to_csv('citybikes_data.csv', index=False)"
   ]
  }
 ],
 "metadata": {
  "kernelspec": {
   "display_name": "project",
   "language": "python",
   "name": "project"
  },
  "language_info": {
   "codemirror_mode": {
    "name": "ipython",
    "version": 3
   },
   "file_extension": ".py",
   "mimetype": "text/x-python",
   "name": "python",
   "nbconvert_exporter": "python",
   "pygments_lexer": "ipython3",
   "version": "3.9.17"
  }
 },
 "nbformat": 4,
 "nbformat_minor": 4
}
