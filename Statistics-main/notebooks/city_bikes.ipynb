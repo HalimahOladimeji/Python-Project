{
 "cells": [
  {
   "cell_type": "markdown",
   "metadata": {},
   "source": [
    "# CityBikes"
   ]
  },
  {
   "cell_type": "code",
   "execution_count": null,
   "metadata": {},
   "outputs": [],
   "source": [
    "Send a request to CityBikes for the city of your choice. "
   ]
  },
  {
   "cell_type": "code",
   "execution_count": null,
   "metadata": {
    "tags": []
   },
   "outputs": [],
   "source": [
    "import requests\n",
    "#citybikes endpoint\n",
    "api_endpoint = \"https://api.citybik.es/v2/networks\"\n",
    "#city of london endpoint\n",
    "location = 'santander-cycles'  \n",
    "city_endpoint = f\"{'https://api.citybik.es/v2/networks'}/{location}\"\n",
    "response = requests.get(city_endpoint)\n",
    "response.status_code\n",
    "response.json()"
   ]
  },
  {
   "cell_type": "markdown",
   "metadata": {},
   "source": [
    "Parse through the response to get the details you want for the bike stations in that city (latitude, longitude, number of bikes). "
   ]
  },
  {
   "cell_type": "markdown",
   "metadata": {},
   "source": [
    "Using a for loop to append ....."
   ]
  },
  {
   "cell_type": "code",
   "execution_count": null,
   "metadata": {},
   "outputs": [],
   "source": [
    "# extract list of stations data\n",
    "stations = response.json()['network']['stations']\n",
    "\n",
    "# initialize an empty list for a data\n",
    "station_data = []\n",
    "\n",
    "#loop through each bike station\n",
    "for station in stations:\n",
    "    station_id = station['id']\n",
    "    name = station['name']\n",
    "    latitude = station['latitude']\n",
    "    longitude = station['longitude']\n",
    "    bikes = station['free_bikes']\n",
    "    total_bike_slots = station['empty_slots'] #\n",
    "    station_data.append({\"Station ID\": station_id, \"Name\": name, \"Latitude\": latitude, \n",
    "    \"Longitude\": longitude, \"Bikes\": bikes, \"Total bike slots\": total_bike_slots})"
   ]
  },
  {
   "cell_type": "code",
   "execution_count": null,
   "metadata": {},
   "outputs": [],
   "source": []
  },
  {
   "cell_type": "markdown",
   "metadata": {},
   "source": [
    "Put your parsed results into a DataFrame."
   ]
  },
  {
   "cell_type": "code",
   "execution_count": null,
   "metadata": {},
   "outputs": [],
   "source": [
    "import pandas as pd\n",
    "citybikes_df = pd.DataFrame(station_data)\n",
    "citybikes_df.to_csv('citybikes_data.csv', index=False)"
   ]
  },
  {
   "cell_type": "markdown",
   "metadata": {},
   "source": [
    "I was thought json normalize by a mentor (Brian) and i decided to add it to my code as seen below"
   ]
  },
  {
   "cell_type": "code",
   "execution_count": null,
   "metadata": {
    "tags": []
   },
   "outputs": [],
   "source": [
    "df_new = pd.json_normalize(stations)\n",
    "df_new"
   ]
  },
  {
   "cell_type": "code",
   "execution_count": null,
   "metadata": {},
   "outputs": [],
   "source": []
  }
 ],
 "metadata": {
  "kernelspec": {
   "display_name": "project",
   "language": "python",
   "name": "project"
  },
  "language_info": {
   "codemirror_mode": {
    "name": "ipython",
    "version": 3
   },
   "file_extension": ".py",
   "mimetype": "text/x-python",
   "name": "python",
   "nbconvert_exporter": "python",
   "pygments_lexer": "ipython3",
   "version": "3.9.17"
  }
 },
 "nbformat": 4,
 "nbformat_minor": 4
}
