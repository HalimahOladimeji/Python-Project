{
 "cells": [
  {
   "cell_type": "code",
   "execution_count": null,
   "metadata": {
    "jupyter": {
     "outputs_hidden": true
    }
   },
   "outputs": [],
   "source": [
    "# imports"
   ]
  },
  {
   "cell_type": "markdown",
   "metadata": {},
   "source": [
    "# Foursquare"
   ]
  },
  {
   "cell_type": "markdown",
   "metadata": {},
   "source": [
    "Send a request to Foursquare with a small radius (1000m) for all the bike stations in your city of choice. "
   ]
  },
  {
   "cell_type": "code",
   "execution_count": null,
   "metadata": {
    "jupyter": {
     "outputs_hidden": true
    },
    "tags": []
   },
   "outputs": [],
   "source": [
    "import requests\n",
    "import pandas as pd\n",
    "\n",
    "# Load the bike station data from the CSV file\n",
    "citybikes_df = pd.read_csv('citybikes_data.csv')\n",
    "\n",
    "# Create a list to store the park counts\n",
    "park_counts = []\n",
    "\n",
    "# Foursquare API details\n",
    "url = 'https://api.foursquare.com/v3/places/search'\n",
    "\n",
    "headers = {\n",
    "    \"Accept\": \"application/json\",\n",
    "    \"Authorization\": \"fsq3tMQgfmWwmQkqyh9tnf4LGu2eeF1W/ZrT9M19faNljt4=\"\n",
    "}\n",
    "\n",
    "\n",
    "result_df = pd.DataFrame(columns=['park_name', 'lat', 'long'])\n",
    "\n",
    "# Iterate through each row in the citybikes DataFrame\n",
    "for index, row in citybikes_df.iterrows():\n",
    "    latitude = row['Latitude']\n",
    "    longitude = row['Longitude']\n",
    "    # print(latitude, longitude)\n",
    "    params = {\n",
    "        'll': f'{latitude},{longitude}', \n",
    "        'radius': 1000,\n",
    "        'query' : 'park'\n",
    "    }\n",
    "\n",
    "    # Make the API request\n",
    "    response = requests.get(url, headers=headers, params=params)\n",
    "    data = response.json()"
   ]
  },
  {
   "cell_type": "code",
   "execution_count": null,
   "metadata": {
    "tags": []
   },
   "outputs": [],
   "source": [
    "import requests\n",
    "import pandas as pd\n",
    "\n",
    "# Load the bike station data from the CSV file\n",
    "citybikes_df = pd.read_csv('citybikes_data.csv')\n",
    "\n",
    "# Create a list to store the park counts\n",
    "park_counts = []\n",
    "\n",
    "# Foursquare API details\n",
    "url = 'https://api.foursquare.com/v3/places/search'\n",
    "\n",
    "headers = {\n",
    "    \"Accept\": \"application/json\",\n",
    "    \"Authorization\": \"fsq3tMQgfmWwmQkqyh9tnf4LGu2eeF1W/ZrT9M19faNljt4=\"\n",
    "}\n",
    "\n",
    "\n",
    "result_df = pd.DataFrame(columns=['park_name', 'lat', 'long'])\n",
    "\n",
    "# Iterate through each row in the citybikes DataFrame\n",
    "for index, row in citybikes_df.iterrows():\n",
    "    latitude = row['Latitude']\n",
    "    longitude = row['Longitude']\n",
    "    #print(latitude, longitude)\n",
    "    params = {\n",
    "        'll': f'{latitude},{longitude}', \n",
    "        'radius': 1000,\n",
    "        'query' : 'park'\n",
    "    }\n",
    "\n",
    "    # Make the API request\n",
    "    response = requests.get(url, headers=headers, params=params)\n",
    "    data = response.json()\n",
    "    # print(data['results'][0]['name'])\n",
    "    for park in data['results']:\n",
    "        # print(park['name'])\n",
    "        try:\n",
    "            new_row = [park['name'], latitude, longitude]\n",
    "        except:\n",
    "            pass\n",
    "        result_df.loc[len(result_df)] = new_row\n",
    "\n",
    "#print(result_df)\n",
    "\n",
    "# Check if the API response contains data\n",
    "if 'total' in data:\n",
    "        park_count = data['total']\n",
    "else:\n",
    "        park_count = 0\n",
    "        \n",
    "# Add the park count to the list\n",
    "park_counts.append(park_count)\n",
    " # Add the park count to the result DataFrame\n",
    "\n",
    "# Save the DataFrame with park counts to a CSV file\n",
    "result_df.to_csv('fsq.csv', index=False)\n",
    "# Add the park counts as a new column in the citybikes DataFrame\n",
    "fsq_df = park_counts\n",
    "fsq_df"
   ]
  },
  {
   "cell_type": "code",
   "execution_count": null,
   "metadata": {
    "tags": []
   },
   "outputs": [],
   "source": [
    "import pandas as pd\n",
    "resul_df = pd.DataFrame(result_df)\n",
    "resul_df.to_csv('fsq_data.csv', index=False)"
   ]
  },
  {
   "cell_type": "code",
   "execution_count": null,
   "metadata": {
    "jupyter": {
     "outputs_hidden": true
    },
    "tags": []
   },
   "outputs": [],
   "source": [
    "Parse through the response to get the POI (such as restaurants, bars, etc) details you want (ratings, name, location, etc)"
   ]
  },
  {
   "cell_type": "code",
   "execution_count": null,
   "metadata": {
    "tags": []
   },
   "outputs": [],
   "source": [
    "response_data = response.json()\n",
    "\n",
    "poi_details = []\n",
    "\n",
    "for poi_entry in response_data.get(\"results\", {}):\n",
    "    poi = {}\n",
    "    \n",
    "    poi[\"name\"] = poi_entry.get(\"name\", \"None\")  \n",
    "    poi[\"rating\"] = poi_entry.get(\"rating\", \"None\")  \n",
    "    poi[\"Longitude\"] = poi_entry.get(\"geocodes\", {}).get(\"main\", {}).get(\"longitude\")\n",
    "    poi[\"Latitude\"] = poi_entry.get(\"geocodes\", {}).get(\"main\", {}).get(\"latitude\")\n",
    "    \n",
    "    location_data = poi_entry.get(\"location\", {})\n",
    "    poi[\"address\"] = location_data.get(\"formatted_address\", \"N/A\")  \n",
    "    poi[\"postcode\"] = location_data.get(\"postcode\", \"N/A\")  \n",
    "\n",
    "    poi_details.append(poi)\n",
    "\n",
    "for poi in poi_details:\n",
    "    print(\"Name:\", poi[\"name\"])\n",
    "    print(\"Rating:\", poi[\"rating\"])\n",
    "    print(\"Address:\", poi[\"address\"])\n",
    "    print(\"Postcode:\", poi[\"postcode\"])\n",
    "    print(\"Latitude:\", poi[\"Latitude\"])\n",
    "    print(\"Longitude:\", poi[\"Longitude\"])\n",
    "    print(\"\\n\")\n",
    "    \n",
    "# Now df contains information for all bike stations including Foursquare data\n",
    "    "
   ]
  },
  {
   "cell_type": "markdown",
   "metadata": {},
   "source": [
    "Put your parsed results into a DataFrame"
   ]
  },
  {
   "cell_type": "code",
   "execution_count": null,
   "metadata": {
    "jupyter": {
     "outputs_hidden": true
    }
   },
   "outputs": [],
   "source": [
    "import pandas as pd\n",
    "resul_df = pd.DataFrame(result_df)\n",
    "resul_df.to_csv('fsq_data.csv', index=False)"
   ]
  },
  {
   "cell_type": "markdown",
   "metadata": {},
   "source": [
    "# Yelp"
   ]
  },
  {
   "cell_type": "markdown",
   "metadata": {},
   "source": [
    "Send a request to Yelp with a small radius (1000m) for all the bike stations in your city of choice. "
   ]
  },
  {
   "cell_type": "code",
   "execution_count": null,
   "metadata": {
    "jupyter": {
     "outputs_hidden": true
    }
   },
   "outputs": [],
   "source": [
    "import requests\n",
    "import pandas as pd\n",
    "\n",
    "# Load the bike station data from the CSV file\n",
    "citybikes_df = pd.read_csv('citybikes_data.csv')\n",
    "\n",
    "# Extract latitude and longitude from all rows\n",
    "latitude = citybikes_df['Latitude']\n",
    "longitude = citybikes_df['Longitude']\n",
    "\n",
    "# Yelp API details\n",
    "url = f'https://api.yelp.com/v3/businesses/search?latitude={latitude}&longitude={longitude}'\n",
    "headers = {\n",
    "    'Authorization': 'Bearer my_fsq_key'\n",
    "}\n",
    "\n",
    "# Create empty lists to store the results\n",
    "yelp_data_list = []\n",
    "\n",
    "# Iterate through each station's coordinates\n",
    "for latitude, longitude in zip(latitudes, longitudes):\n",
    "\n",
    "    params = {\n",
    "        'latitude': latitude,\n",
    "        'longitude': longitude,\n",
    "        'categories': 'parks',\n",
    "        'radius': 1000\n",
    "    }\n",
    "\n",
    "    # Make the API request to Yelp for each bike station\n",
    "    response = requests.get(url, headers=headers, params=params)\n",
    "    yelp_data = response.json()\n",
    "\n",
    "    # Extract the \"businesses\" list from the Yelp API response\n",
    "    businesses = yelp_data.get(\"businesses\", [])\n",
    "\n",
    "    # Flatten the JSON response using pd.json_normalize()\n",
    "    if businesses:\n",
    "        station_data = pd.json_normalize(businesses)\n",
    "\n",
    "        # Append the station name as a new column\n",
    "        station_data[\"Station Name\"] = citybikes_df.loc[\n",
    "            (latitudes == latitude) & (longitudes == longitude), 'Name'].values[0]\n",
    "\n",
    "        # Append the station data to the list\n",
    "        yelp_data_list.append(station_data)\n",
    "    else:\n",
    "        print(f\"No Yelp data found for station at Latitude: {latitude}, Longitude: {longitude}\")\n",
    "\n",
    "# Concatenate all station data into one DataFrame\n",
    "yelp_data = pd.concat(yelp_data_list, ignore_index=True)\n",
    "\n",
    "# Save the DataFrame with Yelp responses to a CSV file\n",
    "yelp_data.to_csv(\"yelp_datas.csv\", index=False)\n"
   ]
  },
  {
   "cell_type": "code",
   "execution_count": null,
   "metadata": {
    "tags": []
   },
   "outputs": [],
   "source": [
    "import requests\n",
    "import pandas as pd\n",
    "\n",
    "# Load the bike station data from the CSV file\n",
    "citybikes_df = pd.read_csv('citybikes_data.csv')\n",
    "#print(citybikes_df)\n",
    "# Yelp API details\n",
    "yelp_df = pd.DataFrame(columns=['park_name', 'latitude', 'longitude'])\n",
    "# Iterate through each row in the citybikes DataFrame\n",
    "df=pd.DataFrame(columns=['park_name', 'latitude', 'longitude'])\n",
    "for index, row in citybikes_df.iterrows():\n",
    "    latitude = row['Latitude']\n",
    "    longitude = row['Longitude']\n",
    "    #print(latitude, longitude)\n",
    "    params = {\n",
    "        'city' : 'London',\n",
    "         'latitude': latitude,\n",
    "        'longitude': longitude,\n",
    "        'radius': 1000,\n",
    "        'categories' : 'parks',\n",
    "        'limit' : 5\n",
    "}\n",
    "    url = 'https://api.yelp.com/v3/businesses/search'\n",
    "\n",
    "    headers = {\n",
    "        'Authorization': 'Bearer My_yelp_key'\n",
    "}\n",
    "    # Make the API request\n",
    "    response = requests.request(\"GET\", url, headers=headers, params=params)\n",
    "    data = response.json()\n",
    "    print(data)\n",
    "    "
   ]
  },
  {
   "cell_type": "code",
   "execution_count": null,
   "metadata": {
    "jupyter": {
     "outputs_hidden": true
    },
    "tags": []
   },
   "outputs": [],
   "source": [
    "import pandas as pd\n",
    "yelps_df = pd.DataFrame(df)\n",
    "yelps_df.to_csv('yelp_datas.csv', index=False)"
   ]
  },
  {
   "cell_type": "code",
   "execution_count": null,
   "metadata": {
    "jupyter": {
     "outputs_hidden": true
    },
    "tags": []
   },
   "outputs": [],
   "source": [
    "Parse through the response to get the POI (such as restaurants, bars, etc) details you want (ratings, name, location, etc)"
   ]
  },
  {
   "cell_type": "code",
   "execution_count": null,
   "metadata": {
    "jupyter": {
     "outputs_hidden": true
    },
    "tags": []
   },
   "outputs": [],
   "source": [
    "data = response.json()\n",
    "if 'businesses' in data:\n",
    "    businesses = data['businesses']\n",
    "\n",
    "    poi_info = []\n",
    "\n",
    "    for business in businesses:\n",
    "        poi = {}\n",
    "        poi['name'] = business['name']\n",
    "        poi['id'] = business['id']\n",
    "        poi['rating'] = business['rating']\n",
    "        poi['review_count'] = business['review_count']\n",
    "        poi['phone'] = business['phone']\n",
    "        poi['location'] = business['location']['address1']\n",
    "        poi['city'] = business['location']['city']\n",
    "        poi['zip_code'] = business['location']['zip_code']\n",
    "        poi['Latitude'] = business['coordinates']['latitude']\n",
    "        poi['Longitude'] = business['coordinates']['longitude']\n",
    "        poi['distance'] = business['distance']\n",
    "        poi['category'] = ', '.join([category['title'] for category in business['categories']])\n",
    "        \n",
    "        poi_info.append(poi)\n",
    "\n",
    "\n",
    "    for poi in poi_info:\n",
    "        print(f\"Name: {poi['name']}\")\n",
    "        print(f\"Id: {poi['id']}\")\n",
    "        print(f\"Rating: {poi['rating']}\")\n",
    "        print(f\"review_count: {poi['review_count']}\")\n",
    "        print(f\"Location: {poi['location']}, {poi['city']} {poi['zip_code']}\")\n",
    "        print(f\"Latitude: {poi['Latitude']}\")\n",
    "        print(f\"Longitude: {poi['Longitude']}\")\n",
    "        print(f\"Category: {poi['category']}\")\n",
    "        print(f\"phone: {poi['phone']}\")\n",
    "        print(f\"Distance: {poi['distance']}\")\n",
    "        print(\"\\n\")"
   ]
  },
  {
   "cell_type": "code",
   "execution_count": null,
   "metadata": {
    "jupyter": {
     "outputs_hidden": true
    }
   },
   "outputs": [],
   "source": [
    "Put your parsed results into a DataFrame"
   ]
  },
  {
   "cell_type": "code",
   "execution_count": null,
   "metadata": {
    "jupyter": {
     "outputs_hidden": true
    },
    "tags": []
   },
   "outputs": [],
   "source": [
    "import pandas as pd\n",
    "yelpdf = pd.DataFrame(poi_info)\n",
    "print(yelpdf)"
   ]
  },
  {
   "cell_type": "markdown",
   "metadata": {
    "tags": []
   },
   "source": [
    "# Comparing Results"
   ]
  },
  {
   "cell_type": "markdown",
   "metadata": {},
   "source": [
    "Which API provided you with more complete data? Provide an explanation. "
   ]
  },
  {
   "cell_type": "markdown",
   "metadata": {},
   "source": [
    "Yelp provided more complete data than Foursquare. It had information for ratings, phone number, url, etc. It also located more businesses."
   ]
  },
  {
   "cell_type": "markdown",
   "metadata": {},
   "source": [
    "Get the top 10 restaurants according to their rating"
   ]
  },
  {
   "cell_type": "code",
   "execution_count": null,
   "metadata": {
    "jupyter": {
     "outputs_hidden": true
    },
    "tags": []
   },
   "outputs": [],
   "source": [
    "if 'businesses' in response_data:\n",
    "    businesses = response_data['businesses']\n",
    "\n",
    "    business_rating = sorted(businesses, key=lambda x: x['rating'], reverse=True)\n",
    "\n",
    "    top_10_restaurants = business_rating[:10]\n",
    "\n",
    "for index, restaurant in enumerate(top_10_restaurants, start=1):\n",
    "        print(f\"Rank {index}:\")\n",
    "        print(f\"Name: {restaurant['name']}\")\n",
    "        print(f\"Rating: {restaurant['rating']}\")\n",
    "        print(f\"Location: {restaurant['location']['address1']}, {restaurant['location']['city']} {restaurant['location']['zip_code']}\")\n",
    "        print(f\"Category: {', '.join([category['title'] for category in restaurant['categories']])}\")\n",
    "        print(f\"url: {restaurant['url']}\")\n",
    "        print(f\"phone: {restaurant['phone']}\")\n",
    "        print(\"\\n\")"
   ]
  }
 ],
 "metadata": {
  "kernelspec": {
   "display_name": "project",
   "language": "python",
   "name": "project"
  },
  "language_info": {
   "codemirror_mode": {
    "name": "ipython",
    "version": 3
   },
   "file_extension": ".py",
   "mimetype": "text/x-python",
   "name": "python",
   "nbconvert_exporter": "python",
   "pygments_lexer": "ipython3",
   "version": "3.9.17"
  }
 },
 "nbformat": 4,
 "nbformat_minor": 4
}
